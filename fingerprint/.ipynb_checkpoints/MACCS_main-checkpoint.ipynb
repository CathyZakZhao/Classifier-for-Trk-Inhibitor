{
 "cells": [
  {
   "cell_type": "code",
   "execution_count": 1,
   "metadata": {},
   "outputs": [
    {
     "name": "stderr",
     "output_type": "stream",
     "text": [
      "RDKit WARNING: [18:42:29] Enabling RDKit 2019.09.3 jupyter extensions\n"
     ]
    }
   ],
   "source": [
    "#需要MACCS.py在同一个工作路径中\n",
    "#导入文件中只能有smiles列，其他列存在会报错（活性信息和label全部删除了，暂不确定是受哪一项的影响）\n",
    "import pandas as pd\n",
    "from molvs import standardize_smiles\n",
    "from rdkit import Chem\n",
    "from MACCS import *\n",
    "\n",
    "def main():\n",
    "    filename = 'all_data_finish.csv'  # path to your csv file\n",
    "    df = pd.read_csv(filename)               # read the csv file as pandas data frame\n",
    "    smiles = [standardize_smiles(i) for i in df['Smiles'].values]  \n",
    "\n",
    "    ## Compute MACCS Fingerprints and export file.\n",
    "    maccs_descriptor = MACCS(smiles)        # create your MACCS object and provide smiles\n",
    "    maccs_descriptor.compute_MACCS(filename) # compute MACCS and provide the name of your desired output file. you can use the same name as the input file because the MACCS class will ensure to add \"_MACCS.csv\" as part of the output file.\n",
    "\n",
    "if __name__ == '__main__':\n",
    "    main()"
   ]
  }
 ],
 "metadata": {
  "kernelspec": {
   "display_name": "Python 3",
   "language": "python",
   "name": "python3"
  },
  "language_info": {
   "codemirror_mode": {
    "name": "ipython",
    "version": 3
   },
   "file_extension": ".py",
   "mimetype": "text/x-python",
   "name": "python",
   "nbconvert_exporter": "python",
   "pygments_lexer": "ipython3",
   "version": "3.7.3"
  }
 },
 "nbformat": 4,
 "nbformat_minor": 2
}
