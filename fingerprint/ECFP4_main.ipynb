{
 "cells": [
  {
   "cell_type": "code",
   "execution_count": 1,
   "metadata": {
    "scrolled": true
   },
   "outputs": [
    {
     "name": "stderr",
     "output_type": "stream",
     "text": [
      "RDKit WARNING: [14:36:18] Enabling RDKit 2019.09.3 jupyter extensions\n"
     ]
    }
   ],
   "source": [
    "# -*- coding: utf-8 -*-\n",
    "\n",
    "import pandas as pd\n",
    "from molvs import standardize_smiles\n",
    "from ECFP4 import * \n",
    "\n",
    "def main():\n",
    "    filename = 'all_data_finish.csv'  # path to your csv file\n",
    "    df = pd.read_csv(filename)               # read the csv file as pandas data frame\n",
    "    smiles = [standardize_smiles(i) for i in df['smiles'].values]  \n",
    "\n",
    "\n",
    "    # Compute ECFP4 Fingerprints and export a csv file.\n",
    "    ecfp4_descriptor = ECFP4(smiles)        # create your ECFP4 object and provide smiles\n",
    "    ecfp4_descriptor.compute_ECFP4(filename) # compute ECFP4 and provide the name of your desired output file. you can use the same name as the input file because the ECFP4 class will ensure to add \"_ECFP4.csv\" as part of the output file.\n",
    "\n",
    "    #return smiles\n",
    "\n",
    "if __name__ == '__main__':\n",
    "    main()"
   ]
  },
  {
   "cell_type": "code",
   "execution_count": 7,
   "metadata": {},
   "outputs": [],
   "source": [
    "smi = main()"
   ]
  },
  {
   "cell_type": "code",
   "execution_count": null,
   "metadata": {},
   "outputs": [],
   "source": []
  }
 ],
 "metadata": {
  "kernelspec": {
   "display_name": "Python 3",
   "language": "python",
   "name": "python3"
  },
  "language_info": {
   "codemirror_mode": {
    "name": "ipython",
    "version": 3
   },
   "file_extension": ".py",
   "mimetype": "text/x-python",
   "name": "python",
   "nbconvert_exporter": "python",
   "pygments_lexer": "ipython3",
   "version": "3.7.3"
  }
 },
 "nbformat": 4,
 "nbformat_minor": 2
}
